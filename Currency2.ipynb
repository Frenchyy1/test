{
  "nbformat": 4,
  "nbformat_minor": 0,
  "metadata": {
    "colab": {
      "name": "Currency2.ipynb",
      "provenance": [],
      "collapsed_sections": [],
      "authorship_tag": "ABX9TyN/Eka7GzGkG6kBLfh9TqHo",
      "include_colab_link": true
    },
    "kernelspec": {
      "name": "python3",
      "display_name": "Python 3"
    }
  },
  "cells": [
    {
      "cell_type": "markdown",
      "metadata": {
        "id": "view-in-github",
        "colab_type": "text"
      },
      "source": [
        "<a href=\"https://colab.research.google.com/github/Frenchyy1/test/blob/master/Currency2.ipynb\" target=\"_parent\"><img src=\"https://colab.research.google.com/assets/colab-badge.svg\" alt=\"Open In Colab\"/></a>"
      ]
    },
    {
      "cell_type": "markdown",
      "metadata": {
        "id": "85kMVaaZeLMa",
        "colab_type": "text"
      },
      "source": [
        "# Conversion Forex"
      ]
    },
    {
      "cell_type": "markdown",
      "metadata": {
        "id": "AZSo0cEAeQx0",
        "colab_type": "text"
      },
      "source": [
        "Lecture"
      ]
    },
    {
      "cell_type": "code",
      "metadata": {
        "id": "-fGwhDVqlPN5",
        "colab_type": "code",
        "outputId": "cf16a5a4-082f-4ba3-dd5b-64b1edfa6b4a",
        "colab": {
          "base_uri": "https://localhost:8080/",
          "height": 139
        }
      },
      "source": [
        "pip install forex-python"
      ],
      "execution_count": 0,
      "outputs": [
        {
          "output_type": "stream",
          "text": [
            "Requirement already satisfied: forex-python in /usr/local/lib/python3.6/dist-packages (1.5)\n",
            "Requirement already satisfied: simplejson in /usr/local/lib/python3.6/dist-packages (from forex-python) (3.17.0)\n",
            "Requirement already satisfied: requests in /usr/local/lib/python3.6/dist-packages (from forex-python) (2.21.0)\n",
            "Requirement already satisfied: idna<2.9,>=2.5 in /usr/local/lib/python3.6/dist-packages (from requests->forex-python) (2.8)\n",
            "Requirement already satisfied: chardet<3.1.0,>=3.0.2 in /usr/local/lib/python3.6/dist-packages (from requests->forex-python) (3.0.4)\n",
            "Requirement already satisfied: certifi>=2017.4.17 in /usr/local/lib/python3.6/dist-packages (from requests->forex-python) (2020.4.5.1)\n",
            "Requirement already satisfied: urllib3<1.25,>=1.21.1 in /usr/local/lib/python3.6/dist-packages (from requests->forex-python) (1.24.3)\n"
          ],
          "name": "stdout"
        }
      ]
    },
    {
      "cell_type": "code",
      "metadata": {
        "id": "KmcRLdJWlW7O",
        "colab_type": "code",
        "colab": {}
      },
      "source": [
        "from forex_python.converter import CurrencyRates"
      ],
      "execution_count": 0,
      "outputs": []
    },
    {
      "cell_type": "code",
      "metadata": {
        "id": "Np7Et1uylYfD",
        "colab_type": "code",
        "colab": {}
      },
      "source": [
        "c = CurrencyRates()"
      ],
      "execution_count": 0,
      "outputs": []
    },
    {
      "cell_type": "code",
      "metadata": {
        "id": "uGQvdXUflheM",
        "colab_type": "code",
        "outputId": "3d252b70-b25e-460e-85ee-b6ea6458ac0c",
        "colab": {
          "base_uri": "https://localhost:8080/",
          "height": 34
        }
      },
      "source": [
        "c.get_rate('EUR', 'ILS')"
      ],
      "execution_count": 0,
      "outputs": [
        {
          "output_type": "execute_result",
          "data": {
            "text/plain": [
              "3.8988"
            ]
          },
          "metadata": {
            "tags": []
          },
          "execution_count": 13
        }
      ]
    },
    {
      "cell_type": "code",
      "metadata": {
        "id": "rhOmMHtUnwWo",
        "colab_type": "code",
        "colab": {}
      },
      "source": [
        "from datetime import datetime"
      ],
      "execution_count": 0,
      "outputs": []
    },
    {
      "cell_type": "code",
      "metadata": {
        "id": "9tMunjj6n2Rz",
        "colab_type": "code",
        "outputId": "2cc5a303-1610-4cf3-add0-2fffb55013f8",
        "colab": {
          "base_uri": "https://localhost:8080/",
          "height": 34
        }
      },
      "source": [
        "t = datetime(2001, 10, 18)\n",
        "c.get_rate(\"USD\", \"GBP\", t)"
      ],
      "execution_count": 0,
      "outputs": [
        {
          "output_type": "execute_result",
          "data": {
            "text/plain": [
              "0.6923332595"
            ]
          },
          "metadata": {
            "tags": []
          },
          "execution_count": 15
        }
      ]
    },
    {
      "cell_type": "code",
      "metadata": {
        "id": "YdTqDbApaSgJ",
        "colab_type": "code",
        "colab": {}
      },
      "source": [
        "import pandas as pd\n",
        "from datetime import datetime,timedelta\n",
        "c = CurrencyRates()"
      ],
      "execution_count": 0,
      "outputs": []
    },
    {
      "cell_type": "code",
      "metadata": {
        "id": "u0FQkY-veiBN",
        "colab_type": "code",
        "colab": {}
      },
      "source": [
        "import datetime\n",
        "from datetime import date\n",
        "date1 = datetime.date(2015, 4, 1)\n",
        "date2 = date.today()\n",
        "day = timedelta(days=1)\n",
        "data=[]\n",
        "data2=[]\n",
        "while date1 <= date2:\n",
        "    #print(date1)\n",
        "    date1 = date1 + day\n",
        "    a=c.get_rate('EUR', 'ILS', date1)\n",
        "    b=c.get_rate('EUR', 'USD', date1)\n",
        "    a_dictionary = {'Date':date1,'Cours':a}\n",
        "    data.append(a_dictionary)\n",
        "    b_dictionary = {'Date':date1,'Coursd':b}\n",
        "    data2.append(b_dictionary)"
      ],
      "execution_count": 0,
      "outputs": []
    },
    {
      "cell_type": "code",
      "metadata": {
        "id": "buT5xGR-bJ-k",
        "colab_type": "code",
        "colab": {}
      },
      "source": [
        "df1 = pd.DataFrame(data)\n",
        "df2= pd.DataFrame(data2)\n",
        "df=pd.merge(df1, df2, on='Date', how='outer')"
      ],
      "execution_count": 0,
      "outputs": []
    },
    {
      "cell_type": "code",
      "metadata": {
        "id": "bDuTgklnibOv",
        "colab_type": "code",
        "colab": {}
      },
      "source": [
        "df"
      ],
      "execution_count": 0,
      "outputs": []
    },
    {
      "cell_type": "code",
      "metadata": {
        "id": "rIqtkzw2iUVA",
        "colab_type": "code",
        "colab": {}
      },
      "source": [
        "from matplotlib import dates\n",
        "from matplotlib.dates import DateFormatter\n",
        "import matplotlib.dates as mdates\n",
        "import matplotlib.pyplot as plt\n",
        "import seaborn as sns\n",
        "%matplotlib inline\n",
        "def tsplot(df, date, axy):\n",
        "  ax=sns.lineplot(data=df, x=date, y=axy, marker='o')\n",
        "  #ax.set(xticks=df.Date.values) Pour 1 libellé pour chaque point x\n",
        "  ax.tick_params(rotation=45)\n",
        "  plt.xlabel('Evolution', fontsize=20)\n",
        "  plt.title('Taux de change Shekel - Euro')\n",
        "  # Define the date format\n",
        "  date_form = DateFormatter(\"%y-%m\")\n",
        "  ax.xaxis.set_major_formatter(date_form)\n",
        "  # Ensure a major tick for each week using (interval=1) \n",
        "  ax.xaxis.set_major_locator(mdates.MonthLocator(interval=3))\n",
        "  xposition = [pd.to_datetime('2020-01-01'), pd.to_datetime('2019-01-01'), pd.to_datetime('2018-01-01'),pd.to_datetime('2017-01-01'), pd.to_datetime('2016-01-01'),pd.to_datetime('2015-01-01')]\n",
        "  for xc in xposition:\n",
        "      ax.axvline(x=xc, color='k', linestyle='dotted')"
      ],
      "execution_count": 0,
      "outputs": []
    },
    {
      "cell_type": "code",
      "metadata": {
        "id": "6x_idbVqiVwl",
        "colab_type": "code",
        "colab": {}
      },
      "source": [
        "fig, ax = plt.subplots(figsize=(10,6))\n",
        "tsplot(df, 'Date', 'Cours')"
      ],
      "execution_count": 0,
      "outputs": []
    },
    {
      "cell_type": "code",
      "metadata": {
        "id": "MCydWkM-bGVs",
        "colab_type": "code",
        "colab": {}
      },
      "source": [
        "fig, ax = plt.subplots(figsize=(10,6))\n",
        "tsplot(df, 'Date', 'Coursd')\n",
        "plt.title('Taux de change Euro - Dollar')"
      ],
      "execution_count": 0,
      "outputs": []
    },
    {
      "cell_type": "code",
      "metadata": {
        "id": "Y2DIK2BRjNWo",
        "colab_type": "code",
        "colab": {}
      },
      "source": [
        "from matplotlib import dates\n",
        "from matplotlib.dates import DateFormatter\n",
        "import matplotlib.dates as mdates\n",
        "import matplotlib.pyplot as plt\n",
        "import seaborn as sns\n",
        "%matplotlib inline\n",
        "def tsplot2(df, date, axy, axz):\n",
        "    fig, ax = plt.subplots(figsize=(10,6))\n",
        "    ax=sns.lineplot(data=df, x=date, y=axy, marker='o')\n",
        "    ax2 = ax.twinx()\n",
        "    ax2=sns.lineplot(data= df, x = date, y = axz, marker='*', color='red') \n",
        "    #ax.set(xticks=df.Date.values) Pour 1 libellé pour chaque point x\n",
        "    ax.tick_params(rotation=45)\n",
        "    plt.xlabel('Evolution', fontsize=20)\n",
        "    plt.title('Taux de change Shekel - Dollar - Euro')\n",
        "    # Define the date format\n",
        "    date_form = DateFormatter(\"%y-%m\")\n",
        "    ax.xaxis.set_major_formatter(date_form)\n",
        "    # Ensure a major tick for each week using (interval=1) \n",
        "    ax.xaxis.set_major_locator(mdates.MonthLocator(interval=3))\n",
        "    xposition = [pd.to_datetime('2020-01-01'), pd.to_datetime('2019-01-01'), pd.to_datetime('2018-01-01'),pd.to_datetime('2017-01-01'), pd.to_datetime('2016-01-01'),pd.to_datetime('2015-01-01')]\n",
        "    for xc in xposition:\n",
        "        ax.axvline(x=xc, color='k', linestyle='dotted')"
      ],
      "execution_count": 0,
      "outputs": []
    },
    {
      "cell_type": "code",
      "metadata": {
        "id": "txtm4vs5d8Et",
        "colab_type": "code",
        "colab": {}
      },
      "source": [
        "tsplot2(df, 'Date', 'Cours', 'Coursd')"
      ],
      "execution_count": 0,
      "outputs": []
    },
    {
      "cell_type": "code",
      "metadata": {
        "id": "r1cvm_6sj4YC",
        "colab_type": "code",
        "colab": {}
      },
      "source": [
        "import datetime\n",
        "today = datetime.date.today()\n",
        "first = today.replace(day=1)\n",
        "start_date = first - pd.offsets.MonthBegin(1)\n",
        "#start_date = first - pd.offsets.MonthBegin(12)\n",
        "mask = (df['Date'] > start_date)\n",
        "dflast12=df.loc[mask]"
      ],
      "execution_count": 0,
      "outputs": []
    },
    {
      "cell_type": "code",
      "metadata": {
        "id": "EfOLZvmej7lU",
        "colab_type": "code",
        "colab": {}
      },
      "source": [
        "from matplotlib import dates\n",
        "from matplotlib.dates import DateFormatter\n",
        "import matplotlib.dates as mdates\n",
        "import matplotlib.pyplot as plt\n",
        "import seaborn as sns\n",
        "%matplotlib inline\n",
        "def tsplot(df, date, axy):\n",
        "  ax=sns.lineplot(data=df, x=date, y=axy, marker='o')\n",
        "  #ax.set(xticks=df.Date.values) Pour 1 libellé pour chaque point x\n",
        "  ax.tick_params(rotation=45)\n",
        "  plt.xlabel('Evolution', fontsize=20)\n",
        "  plt.title('Taux de change Shekel - Euro')\n",
        "  # Define the date format\n",
        "  date_form = DateFormatter(\"%y-%m\")\n",
        "  ax.xaxis.set_major_formatter(date_form)\n",
        "  # Ensure a major tick for each week using (interval=1) \n",
        "  ax.xaxis.set_major_locator(mdates.MonthLocator(interval=1))"
      ],
      "execution_count": 0,
      "outputs": []
    },
    {
      "cell_type": "code",
      "metadata": {
        "id": "bxFwKfZrj-j3",
        "colab_type": "code",
        "colab": {}
      },
      "source": [
        "fig, ax = plt.subplots(figsize=(10,6))\n",
        "tsplot(dflast12, 'Date', 'Cours')"
      ],
      "execution_count": 0,
      "outputs": []
    },
    {
      "cell_type": "code",
      "metadata": {
        "id": "SlnR7czSlbXm",
        "colab_type": "code",
        "colab": {}
      },
      "source": [
        "from matplotlib import dates\n",
        "from matplotlib.dates import DateFormatter\n",
        "import matplotlib.dates as mdates\n",
        "import matplotlib.pyplot as plt\n",
        "import seaborn as sns\n",
        "%matplotlib inline\n",
        "def tsplot2b(df, date, axy, axz):\n",
        "    fig, ax = plt.subplots(figsize=(10,6))\n",
        "    ax=sns.lineplot(data=df, x=date, y=axy, marker='o')\n",
        "    ax2 = ax.twinx()\n",
        "    ax2=sns.lineplot(data= df, x = date, y = axz, marker='*', color='red') \n",
        "    #ax.set(xticks=df.Date.values) Pour 1 libellé pour chaque point x\n",
        "    ax.tick_params(rotation=45)\n",
        "    plt.xlabel('Evolution', fontsize=20)\n",
        "    plt.title('Taux de change Shekel - Dollar - Euro')\n",
        "    # Define the date format\n",
        "    date_form = DateFormatter(\"%y-%m\")\n",
        "    ax.xaxis.set_major_formatter(date_form)\n",
        "    # Ensure a major tick for each week using (interval=1) \n",
        "    ax.xaxis.set_major_locator(mdates.MonthLocator(interval=1))"
      ],
      "execution_count": 0,
      "outputs": []
    },
    {
      "cell_type": "code",
      "metadata": {
        "id": "MK4TNGg8k950",
        "colab_type": "code",
        "colab": {}
      },
      "source": [
        "tsplot2b(dflast12, 'Date', 'Cours', 'Coursd')"
      ],
      "execution_count": 0,
      "outputs": []
    }
  ]
}