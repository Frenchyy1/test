{
  "nbformat": 4,
  "nbformat_minor": 0,
  "metadata": {
    "colab": {
      "name": "Verbatims.ipynb",
      "provenance": [],
      "collapsed_sections": [],
      "authorship_tag": "ABX9TyNJx/FtbL0ELIwm51zdO5Ds",
      "include_colab_link": true
    },
    "kernelspec": {
      "name": "python3",
      "display_name": "Python 3"
    }
  },
  "cells": [
    {
      "cell_type": "markdown",
      "metadata": {
        "id": "view-in-github",
        "colab_type": "text"
      },
      "source": [
        "<a href=\"https://colab.research.google.com/github/Frenchyy1/test/blob/master/Verbatims.ipynb\" target=\"_parent\"><img src=\"https://colab.research.google.com/assets/colab-badge.svg\" alt=\"Open In Colab\"/></a>"
      ]
    },
    {
      "cell_type": "code",
      "metadata": {
        "id": "oPQz6WEViWo8",
        "colab_type": "code",
        "colab": {
          "base_uri": "https://localhost:8080/",
          "height": 52
        },
        "outputId": "38156b65-0081-4f01-dfa9-6ef80f2702c6"
      },
      "source": [
        "# Projet CDA -----------------------------------------\n",
        "import pandas as pd\n",
        "import numpy as np\n",
        "import matplotlib.pyplot as plt\n",
        "import seaborn as sns"
      ],
      "execution_count": 1,
      "outputs": [
        {
          "output_type": "stream",
          "text": [
            "/usr/local/lib/python3.6/dist-packages/statsmodels/tools/_testing.py:19: FutureWarning: pandas.util.testing is deprecated. Use the functions in the public API at pandas.testing instead.\n",
            "  import pandas.util.testing as tm\n"
          ],
          "name": "stderr"
        }
      ]
    },
    {
      "cell_type": "code",
      "metadata": {
        "id": "60VCeTn1jDGD",
        "colab_type": "code",
        "colab": {
          "resources": {
            "http://localhost:8080/nbextensions/google.colab/files.js": {
              "data": "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",
              "ok": true,
              "headers": [
                [
                  "content-type",
                  "application/javascript"
                ]
              ],
              "status": 200,
              "status_text": ""
            }
          },
          "base_uri": "https://localhost:8080/",
          "height": 74
        },
        "outputId": "0cf48eaf-9526-4a21-cf99-d4ddc4c7bde4"
      },
      "source": [
        "from google.colab import files\n",
        "uploaded = files.upload()"
      ],
      "execution_count": 5,
      "outputs": [
        {
          "output_type": "display_data",
          "data": {
            "text/html": [
              "\n",
              "     <input type=\"file\" id=\"files-22bd995b-84cc-43ea-9041-8ecae262af5f\" name=\"files[]\" multiple disabled />\n",
              "     <output id=\"result-22bd995b-84cc-43ea-9041-8ecae262af5f\">\n",
              "      Upload widget is only available when the cell has been executed in the\n",
              "      current browser session. Please rerun this cell to enable.\n",
              "      </output>\n",
              "      <script src=\"/nbextensions/google.colab/files.js\"></script> "
            ],
            "text/plain": [
              "<IPython.core.display.HTML object>"
            ]
          },
          "metadata": {
            "tags": []
          }
        },
        {
          "output_type": "stream",
          "text": [
            "Saving commentaires_clients_enquete_satisfaction.csv to commentaires_clients_enquete_satisfaction.csv\n"
          ],
          "name": "stdout"
        }
      ]
    },
    {
      "cell_type": "code",
      "metadata": {
        "id": "DO2KVetEieTp",
        "colab_type": "code",
        "colab": {
          "base_uri": "https://localhost:8080/",
          "height": 174
        },
        "outputId": "5bc52161-bf1f-4715-a392-5ff1ca97be8c"
      },
      "source": [
        "cltmod = pd.read_pickle('verbats.pkl')\n",
        "clt=pd.read_csv(\"commentaires_clients_enquete_satisfaction.csv\", sep=';',  encoding='latin-1', error_bad_lines=False)\n",
        "clt.shape\n",
        "clt.columns"
      ],
      "execution_count": 6,
      "outputs": [
        {
          "output_type": "execute_result",
          "data": {
            "text/plain": [
              "Index(['ID', 'Code', 'Période', 'Semaine', 'Station', 'Destination',\n",
              "       'Commentaire positif/négatif', 'Thèmes', 'Sous-thèmes', 'Commentaire',\n",
              "       'Satisfaction globale', 'Recommandation', 'Intention de revenir',\n",
              "       'Domaine skiable', 'Préparation du séjour',\n",
              "       'Expérience pratique en station', 'Expérience plaisir en station',\n",
              "       'Fin du séjour', 'Développement durable', 'Durée du séjour', 'Fidelité',\n",
              "       'Nationalité', 'Composition du groupe', 'Type de logement',\n",
              "       'Niveau de ski', 'Mode d'achat du forfait', 'Avec ou sans problèmes'],\n",
              "      dtype='object')"
            ]
          },
          "metadata": {
            "tags": []
          },
          "execution_count": 6
        }
      ]
    },
    {
      "cell_type": "code",
      "metadata": {
        "id": "9uohACazm4K5",
        "colab_type": "code",
        "colab": {}
      },
      "source": [
        "# Décrire les variables discrètes\n",
        "import seaborn as sns\n",
        "listh=clt.columns.tolist()\n",
        "listhh2=listh[2:]\n",
        "lista=listhh2[8:]\n",
        "for a in lista :\n",
        "    def graphh(n):\n",
        "        g=sns.catplot(n, data=clt, kind=\"count\")\n",
        "        g.set_xticklabels(rotation=90)\n",
        "        return\n",
        "    graphh(a)"
      ],
      "execution_count": 0,
      "outputs": []
    },
    {
      "cell_type": "code",
      "metadata": {
        "id": "r1fPb5TLnaVk",
        "colab_type": "code",
        "colab": {}
      },
      "source": [
        ""
      ],
      "execution_count": 0,
      "outputs": []
    },
    {
      "cell_type": "code",
      "metadata": {
        "id": "K3vIThbtj3e8",
        "colab_type": "code",
        "colab": {}
      },
      "source": [
        "# lecture fichiers retraités par Spad -----------\n",
        "#clst = pd.read_csv(pathh + \"Clusters.txt\", sep='|',  encoding='latin-1', \n",
        "#                  error_bad_lines=False)\n",
        "\n",
        "verb=pd.read_csv(pathh + \"Mots transformés2.txt\", sep='|',  encoding='latin-1', \n",
        "                  error_bad_lines=False)\n",
        "verb.columns\n",
        "a=verb.isnull().sum()/len(verb)\n",
        "a.sort_values(ascending=True)\n",
        "verb=verb.drop(['Développement durable'], axis=1)\n",
        "d=verb.dropna()\n",
        "d.dtypes\n",
        "d1=d.select_dtypes(exclude=['object']) # var quantis\n",
        "d2=d.select_dtypes(include=['object'])# var discr\n",
        "\n",
        "# filtrer les variables discrètes selon leur nb de modalités\n",
        "dico=dict()\n",
        "for i in d2.columns :\n",
        "    l=len(d2[i].unique()) \n",
        "    print(i,l)\n",
        "    dico[i]=l\n",
        "newDict = {key: value for (key, value) in dico.items() if value < 21}\n",
        "lvar=list(newDict.keys())\n",
        "d3=d[lvar]    # var discr filtrées\n",
        "\n",
        "d4= d[['Thèmes', 'Sous-thèmes']]   # variables textuelles à cruncher\n",
        "d5= d['Commentaire']\n",
        "\n",
        "d3=pd.get_dummies(d3) \n",
        "df=d1.join(d3)\n",
        "df.columns\n",
        "\n",
        "# Prédiction satisfaction -------------------------------------------------\n",
        "X=df.drop(['Satisfaction globale', \"Recommandation\", \"Code\", \"ID\"], axis=1)\n",
        "y=df['Satisfaction globale']\n",
        "y.value_counts()\n",
        "\n",
        "from sklearn.model_selection import train_test_split\n",
        "X_train, X_test, y_train, y_test = train_test_split(X, y, stratify=y)\n",
        "\n",
        "from sklearn.ensemble import RandomForestRegressor\n",
        "rf_regressor = RandomForestRegressor(n_estimators=50)\n",
        "rf_regressor.fit(X_train, y_train)\n",
        "rf_regressor.score(X_test, y_test)\n",
        "\n",
        "#  Calcul importances\n",
        "pd.DataFrame({'importance':rf_regressor.feature_importances_,\n",
        "              'features':X.columns})\n",
        "feature_importance = pd.DataFrame({\"features\": X.columns[:], \n",
        "    \"score\": rf_regressor.feature_importances_}).sort_values(by=\"score\", ascending=False)\n",
        "feature_importance1=feature_importance[feature_importance.score > 0.01]\n",
        "sns.catplot(x=\"score\",y=\"features\", data=feature_importance1, kind=\"bar\" )\n",
        "\n",
        "y_pred = rf_regressor.predict(X_test)  # calcul de la prédiction\n",
        "\n",
        "plt.figure(figsize=(5,5))\n",
        "ax=sns.heatmap((pd.crosstab(np.around(y_pred), y_test, normalize='index'))*100, cmap=\"YlGnBu\",\n",
        "            annot=True, cbar=False)\n",
        "ax.set_xlabel('Prédiction')\n",
        "ax.set_ylabel('Réel')\n",
        "plt.show(ax)\n",
        "\n",
        "\n",
        "# Xgboost ---------------------------------------------------\n",
        "from xgboost import XGBRegressor\n",
        "regressor_xgb = XGBRegressor()\n",
        "regressor_xgb.fit(X_train, y_train)\n",
        "regressor_xgb.score(X_test, y_test)\n",
        "\n",
        "#  Calcul importances\n",
        "pd.DataFrame({'importance':regressor_xgb.feature_importances_,\n",
        "              'features':X.columns})\n",
        "feature_importance = pd.DataFrame({\"features\": X.columns[:], \n",
        "    \"score\": regressor_xgb.feature_importances_}).sort_values(by=\"score\", ascending=False)\n",
        "feature_importance1=feature_importance[feature_importance.score > 0.01]\n",
        "sns.catplot(x=\"score\",y=\"features\", data=feature_importance1, kind=\"bar\" )\n",
        "\n",
        "y_pred = regressor_xgb.predict(X_test)  # calcul de la prédiction\n",
        "\n",
        "plt.figure(figsize=(5,5))\n",
        "ax=sns.heatmap((pd.crosstab(np.around(y_pred), y_test, normalize='index'))*100, cmap=\"YlGnBu\",\n",
        "            annot=True, cbar=False)\n",
        "ax.set_xlabel('Prédiction')\n",
        "ax.set_ylabel('Réel')\n",
        "plt.show(ax)\n",
        "\n",
        "# lien satisfaction et intention recommande -------------------------------\n",
        "plt.figure(figsize=(8,8))\n",
        "#ax=sns.heatmap(round((pd.crosstab(np.around(df['Satisfaction globale']), df[\"Recommandation\"], normalize='index'))*100),\n",
        "#               cmap=\"YlGnBu\",annot=True, cbar=False)\n",
        "ax=sns.heatmap((pd.crosstab(np.around(df['Satisfaction globale']), df[\"Recommandation\"])),\n",
        "               cmap=\"YlGnBu\",annot=True, cbar=False, fmt='g')\n",
        "ax.set_xlabel('Satisfaction globale')\n",
        "ax.set_ylabel('Recommandation')\n",
        "plt.show(ax)\n",
        "\n",
        "# lien satisfaction et intention recommande -------------------------------\n",
        "plt.figure(figsize=(8,8))\n",
        "ax=sns.heatmap(round(pd.crosstab(d[\"Intention de revenir\"], d['Recommandation'], normalize='index')*100),\n",
        "               cmap=\"YlGnBu\",annot=True, cbar=False, fmt='g')\n",
        "ax.set_xlabel('Recommandation')\n",
        "ax.set_ylabel('Intention de revenir')\n",
        "plt.show(ax)\n",
        "\n",
        "# Xgboost voir à quoi est liée l'intention de revenir certainement --------------------------\n",
        "df=pd.get_dummies(df, columns=[\"Recommandation\"])\n",
        "df=pd.get_dummies(df, columns=[\"Satisfaction globale\"])\n",
        "df['Revenir']=d[\"Intention de revenir\"]\n",
        "df.columns\n",
        "\n",
        "from sklearn.preprocessing import LabelEncoder\n",
        "labelencoder = LabelEncoder()\n",
        "df['Revenir_R'] = labelencoder.fit_transform(df['Revenir'])\n",
        "X=df.drop(['Satisfaction globale', \"Code\", \"ID\",\n",
        "           'Intention de revenir_Certainement', 'Intention de revenir_Non',\n",
        "       'Intention de revenir_Possible', 'Revenir', 'Revenir_R'], axis=1)\n",
        "y=df['Revenir_R']\n",
        "\n",
        "y.value_counts()\n",
        "d['Intention de revenir'].value_counts()\n",
        "\n",
        "\n",
        "from sklearn.model_selection import train_test_split\n",
        "X_train, X_test, y_train, y_test = train_test_split(X, y, stratify=y)\n",
        "\n",
        "from xgboost import XGBRegressor\n",
        "regressor_xgb = XGBRegressor()\n",
        "regressor_xgb.fit(X_train, y_train)\n",
        "regressor_xgb.score(X_test, y_test)\n",
        "\n",
        "#  Calcul importances\n",
        "pd.DataFrame({'importance':regressor_xgb.feature_importances_,\n",
        "              'features':X.columns})\n",
        "feature_importance = pd.DataFrame({\"features\": X.columns[:], \n",
        "    \"score\": regressor_xgb.feature_importances_}).sort_values(by=\"score\", ascending=False)\n",
        "feature_importance1=feature_importance[feature_importance.score > 0.01]\n",
        "sns.catplot(x=\"score\",y=\"features\", data=feature_importance1, kind=\"bar\" )\n",
        "\n",
        "y_pred = regressor_xgb.predict(X_test)  # calcul de la prédiction\n",
        "\n",
        "plt.figure(figsize=(5,5))\n",
        "ax=sns.heatmap((pd.crosstab(np.around(y_pred), y_test, normalize='index'))*100, cmap=\"YlGnBu\",\n",
        "            annot=True, cbar=False)\n",
        "ax.set_xlabel('Prédiction')\n",
        "ax.set_ylabel('Réel')\n",
        "plt.show(ax)\n",
        "# Suite\n",
        "\n",
        "# Réseau de neurones sur var précédentes\n",
        "# Croiser avec comportement réel\n",
        "\n",
        "# Réseau neurones -----------------------------------------\n",
        "d6= d[['Intention de revenir', 'Nationalité']]\n",
        "d6=d6[d6['Nationalité']==\"Français\"]\n",
        "from sklearn.preprocessing import LabelEncoder\n",
        "labelencoder = LabelEncoder()\n",
        "d6['Revenir_R'] = labelencoder.fit_transform(d6['Intention de revenir'])\n",
        "d6= d6[['Revenir_R']]\n",
        "d5= d['Commentaire']\n",
        "df=d6.join(d5)\n",
        "\n",
        "df.shape\n",
        "df.to_pickle(pathh + 'verbats.pkl')\n",
        "\n",
        "from fastai.text import *\n",
        "mask = np.random.rand(len(df)) < 0.8\n",
        "df_train = df[mask]\n",
        "df_test = df[~mask]\n",
        "df.columns\n",
        "# Classifier model data\n",
        "data_lm = TextLMDataBunch.from_df(Path(),\n",
        "                                  train_df = df_train,\n",
        "                                  valid_df = df_test,\n",
        "                                  text_cols = 'Commentaires', \n",
        "                                  label_cols= \"Revenir_R\",\n",
        "                                  tokenizer= Tokenizer(lang=\"fr\")\n",
        "                                  )\n",
        "data_clas = TextClasDataBunch.from_df(pathh, 'texts.csv', vocab=data_lm.train_ds.vocab, bs=32)"
      ],
      "execution_count": 0,
      "outputs": []
    }
  ]
}